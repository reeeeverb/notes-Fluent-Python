{
 "cells": [
  {
   "cell_type": "markdown",
   "id": "dac38a0e-4c6e-4589-be64-63ce855fd4d6",
   "metadata": {},
   "source": [
    "# Data Structures\n",
    "\n",
    "## An Array of Sequences"
   ]
  },
  {
   "cell_type": "markdown",
   "id": "8f8798e2-669c-46ec-8b71-ef6c57dea64b",
   "metadata": {},
   "source": [
    "### List Comprehensions \n",
    "- most fundamental is the list\n",
    "    - mutable and mixed types\n",
    "- comprehensions are specifically for lists while generators can be generalized to other types of sequences"
   ]
  },
  {
   "cell_type": "code",
   "execution_count": 2,
   "id": "c6739b6b-5385-4c3e-9a97-1e1956f74e9e",
   "metadata": {},
   "outputs": [
    {
     "data": {
      "text/plain": [
       "[36, 162, 163, 165, 8364, 164]"
      ]
     },
     "execution_count": 2,
     "metadata": {},
     "output_type": "execute_result"
    }
   ],
   "source": [
    "## Basic implmentation\n",
    "symbols = '$¢£¥€¤'\n",
    "codes = []\n",
    "for symbol in symbols:\n",
    "    codes.append(ord(symbol))\n",
    "codes"
   ]
  },
  {
   "cell_type": "code",
   "execution_count": 3,
   "id": "8d2f9f0b-b2e7-4719-bfd8-885944e15153",
   "metadata": {},
   "outputs": [
    {
     "data": {
      "text/plain": [
       "[36, 162, 163, 165, 8364, 164]"
      ]
     },
     "execution_count": 3,
     "metadata": {},
     "output_type": "execute_result"
    }
   ],
   "source": [
    "## Listcomp implementation\n",
    "symbols = '$¢£¥€¤'\n",
    "codes = [ord(symbol) for symbol in symbols]\n",
    "codes"
   ]
  },
  {
   "cell_type": "markdown",
   "id": "154f9bae-95cc-4c90-a9fc-60ea95cfd108",
   "metadata": {},
   "source": [
    "#### Cartesian Product"
   ]
  },
  {
   "cell_type": "code",
   "execution_count": 3,
   "id": "90a161db-0e2b-4b46-b4d8-c12ce26a2152",
   "metadata": {},
   "outputs": [],
   "source": [
    "colors = ['black','white']\n",
    "sizes = ['S','M','L']\n",
    "tshirts = [(color,size) for color in colors for size in sizes]"
   ]
  },
  {
   "cell_type": "code",
   "execution_count": 4,
   "id": "74bdf3e6-3e7e-4ea6-ab5f-35c74446b535",
   "metadata": {},
   "outputs": [
    {
     "data": {
      "text/plain": [
       "[('black', 'S'),\n",
       " ('black', 'M'),\n",
       " ('black', 'L'),\n",
       " ('white', 'S'),\n",
       " ('white', 'M'),\n",
       " ('white', 'L')]"
      ]
     },
     "execution_count": 4,
     "metadata": {},
     "output_type": "execute_result"
    }
   ],
   "source": [
    "tshirts"
   ]
  },
  {
   "cell_type": "markdown",
   "id": "30304033-54bd-46ec-95f6-d0bef987fdb4",
   "metadata": {},
   "source": [
    "### Generator Expressions\n",
    "- same syntax as listcomps but are enclosed in parentheses rather than brackets"
   ]
  },
  {
   "cell_type": "code",
   "execution_count": 6,
   "id": "d9c97904-cd84-4a6d-b262-2a053de613bc",
   "metadata": {},
   "outputs": [
    {
     "data": {
      "text/plain": [
       "(36, 162, 163, 165, 8364, 164)"
      ]
     },
     "execution_count": 6,
     "metadata": {},
     "output_type": "execute_result"
    }
   ],
   "source": [
    "symbols = '$¢£¥€¤'\n",
    "tuple(ord(symbol) for symbol in symbols)"
   ]
  },
  {
   "cell_type": "code",
   "execution_count": 9,
   "id": "5ecfd5de-4a84-4d9d-ba77-0afa6c619c24",
   "metadata": {},
   "outputs": [
    {
     "data": {
      "text/plain": [
       "array('I', [36, 162, 163, 165, 8364, 164])"
      ]
     },
     "execution_count": 9,
     "metadata": {},
     "output_type": "execute_result"
    }
   ],
   "source": [
    "import array\n",
    "array.array('I',(ord(symbol) for symbol in symbols))"
   ]
  },
  {
   "cell_type": "markdown",
   "id": "7e6aa72c-1c53-4152-8279-187a88d4f6ee",
   "metadata": {},
   "source": [
    "#### Cartesian Product"
   ]
  },
  {
   "cell_type": "code",
   "execution_count": 10,
   "id": "678eb5c9-3223-4573-9536-3aab88883071",
   "metadata": {},
   "outputs": [
    {
     "name": "stdout",
     "output_type": "stream",
     "text": [
      "black S\n",
      "black M\n",
      "black L\n",
      "white S\n",
      "white M\n",
      "white L\n"
     ]
    }
   ],
   "source": [
    "colors = ['black','white']\n",
    "sizes = ['S','M','L']\n",
    "for tshirt in ('%s %s' % (c,s) for c in colors for s in sizes):\n",
    "    print(tshirt)"
   ]
  },
  {
   "cell_type": "markdown",
   "id": "740cb26b-55ba-4163-9b58-b7769cf181e9",
   "metadata": {},
   "source": [
    "### Tuples\n",
    "- are not just immutable lists\n",
    "- tuples hold records each item in the tuple holds the data for one filed and the position of the item gives its meaning"
   ]
  },
  {
   "cell_type": "code",
   "execution_count": 12,
   "id": "5c5129e8-35bf-4669-8e60-028d7617c40e",
   "metadata": {},
   "outputs": [
    {
     "name": "stdout",
     "output_type": "stream",
     "text": [
      "BRACE342567\n",
      "ESPXDA205856\n",
      "USA31195855\n"
     ]
    }
   ],
   "source": [
    "lax_coordinates = (33.9425, -118.408056)\n",
    "city, year, pop, chg, area = ('Tokyo', 2003, 32450, 0.66, 8014)\n",
    "traveler_ids = [('USA', '31195855'), ('BRA', 'CE342567'),('ESP', 'XDA205856')]\n",
    "for passport in sorted(traveler_ids):\n",
    "    print('%s%s' % passport)"
   ]
  },
  {
   "cell_type": "markdown",
   "id": "2d851f25-d1d7-4962-95d7-eb4b92eca6a6",
   "metadata": {},
   "source": [
    "#### Tuple Unpacking\n",
    "- the % operator in the last line of the above code demonstrates unpacking\n",
    "- allows for variable swapping without using a temp variable \n",
    "- prefixing an arguement with a star when calling a fn(shown bellow)"
   ]
  },
  {
   "cell_type": "code",
   "execution_count": 13,
   "id": "b1fde5f1-132b-4280-8efd-c595649bf039",
   "metadata": {},
   "outputs": [
    {
     "data": {
      "text/plain": [
       "(2, 4)"
      ]
     },
     "execution_count": 13,
     "metadata": {},
     "output_type": "execute_result"
    }
   ],
   "source": [
    "t = (20,8)\n",
    "divmod(*t) # Uses 20 as first arguement and 8 as second"
   ]
  },
  {
   "cell_type": "markdown",
   "id": "109b07e5-eb21-4420-a9c9-b2daa2d879fe",
   "metadata": {},
   "source": [
    "#### Using * to grab exess items"
   ]
  },
  {
   "cell_type": "code",
   "execution_count": 16,
   "id": "a067e2b0-afca-48ae-86f1-ad007a342988",
   "metadata": {},
   "outputs": [
    {
     "data": {
      "text/plain": [
       "(0, 1, 2, 3, 4)"
      ]
     },
     "execution_count": 16,
     "metadata": {},
     "output_type": "execute_result"
    }
   ],
   "source": [
    "a,b,*rest = range(5)\n",
    "a,b,*rest"
   ]
  },
  {
   "cell_type": "code",
   "execution_count": 17,
   "id": "865770db-3186-49a7-8d7d-8a9b735939fe",
   "metadata": {},
   "outputs": [
    {
     "data": {
      "text/plain": [
       "(0, 1, 2)"
      ]
     },
     "execution_count": 17,
     "metadata": {},
     "output_type": "execute_result"
    }
   ],
   "source": [
    "a,b,*rest = range(3)\n",
    "a,b,*rest"
   ]
  },
  {
   "cell_type": "code",
   "execution_count": 18,
   "id": "0453bd2b-e600-4334-bd0e-ce5006647c30",
   "metadata": {},
   "outputs": [
    {
     "data": {
      "text/plain": [
       "(0, 1)"
      ]
     },
     "execution_count": 18,
     "metadata": {},
     "output_type": "execute_result"
    }
   ],
   "source": [
    "a,b,*rest = range(2)\n",
    "a,b,*rest"
   ]
  },
  {
   "cell_type": "markdown",
   "id": "c614312b-84fb-4430-a050-c3a6bf4dfe1c",
   "metadata": {},
   "source": [
    "#### Named Tuple\n",
    "- used above, this is a simple and powerful way to define new types"
   ]
  },
  {
   "cell_type": "code",
   "execution_count": 20,
   "id": "bbbc3826-6c14-4762-ad05-0d3f90cb8637",
   "metadata": {},
   "outputs": [
    {
     "data": {
      "text/plain": [
       "City(name='Tokyo', country='JP', population=36.933, coordinates=(35.689722, 139.691667))"
      ]
     },
     "execution_count": 20,
     "metadata": {},
     "output_type": "execute_result"
    }
   ],
   "source": [
    "from collections import namedtuple\n",
    "City = namedtuple('City', 'name country population coordinates')\n",
    "tokyo = City('Tokyo', 'JP', 36.933, (35.689722, 139.691667))\n",
    "tokyo"
   ]
  },
  {
   "cell_type": "markdown",
   "id": "4f88f1c2-c18c-4f83-8517-e512504c115e",
   "metadata": {},
   "source": [
    "#### Sorting"
   ]
  },
  {
   "cell_type": "code",
   "execution_count": 21,
   "id": "8d690444-df82-47fe-ac02-dd02ce724a68",
   "metadata": {},
   "outputs": [
    {
     "data": {
      "text/plain": [
       "['raspberry', 'banana', 'grape', 'apple']"
      ]
     },
     "execution_count": 21,
     "metadata": {},
     "output_type": "execute_result"
    }
   ],
   "source": [
    "fruits = ['grape', 'raspberry', 'apple', 'banana']\n",
    "sorted(fruits,key=len,reverse=True)"
   ]
  },
  {
   "cell_type": "markdown",
   "id": "81cf663f-ce58-4d9e-b05e-f3d9399ff830",
   "metadata": {},
   "source": [
    "### Bisect\n",
    "- two main fns bisect and insort\n",
    "- both use binary search algo"
   ]
  },
  {
   "cell_type": "code",
   "execution_count": 24,
   "id": "99d0b31b-7d72-4553-9a77-1f17ea453ddb",
   "metadata": {},
   "outputs": [
    {
     "name": "stdout",
     "output_type": "stream",
     "text": [
      "14\n",
      "13\n",
      "12\n",
      "9\n",
      "9\n",
      "5\n",
      "4\n",
      "2\n",
      "1\n",
      "0\n",
      "0\n"
     ]
    }
   ],
   "source": [
    "import bisect\n",
    "import sys\n",
    "HAYSTACK = [1, 4, 5, 6, 8, 12, 15, 20, 21, 23, 23, 26, 29, 30]\n",
    "NEEDLES = [0, 1, 2, 5, 8, 10, 22, 23, 29, 30, 31]\n",
    "ROW_FMT = '{0:2d} @ {1:2d} {2}{0:<2d}'\n",
    "\n",
    "for needle in reversed(NEEDLES):\n",
    "    position = bisect.bisect_left(HAYSTACK,needle)\n",
    "    print(position)"
   ]
  },
  {
   "cell_type": "markdown",
   "id": "2605b763-dd29-4914-9ddb-2548b0410921",
   "metadata": {},
   "source": [
    "#### Finetuning Bisect\n",
    "- there are optional hi and lo arguements that speicify the upper and lower indexes to search\n",
    "- bisect is an alias for bisect_right\n",
    "    - when two elements are equal bisect_right will return the pos to the right and vice versa for left"
   ]
  },
  {
   "cell_type": "code",
   "execution_count": 25,
   "id": "218fec2f-501d-44c8-b734-fa3d94db523f",
   "metadata": {
    "scrolled": true,
    "tags": []
   },
   "outputs": [
    {
     "data": {
      "text/plain": [
       "[0,\n",
       " 1,\n",
       " 1,\n",
       " 2,\n",
       " 4,\n",
       " 5,\n",
       " 5,\n",
       " 6,\n",
       " 8,\n",
       " 8,\n",
       " 10,\n",
       " 12,\n",
       " 15,\n",
       " 20,\n",
       " 21,\n",
       " 22,\n",
       " 23,\n",
       " 23,\n",
       " 23,\n",
       " 26,\n",
       " 29,\n",
       " 29,\n",
       " 30,\n",
       " 30,\n",
       " 31]"
      ]
     },
     "execution_count": 25,
     "metadata": {},
     "output_type": "execute_result"
    }
   ],
   "source": [
    "HAYSTACK = [1, 4, 5, 6, 8, 12, 15, 20, 21, 23, 23, 26, 29, 30]\n",
    "NEEDLES = [0, 1, 2, 5, 8, 10, 22, 23, 29, 30, 31]\n",
    "ROW_FMT = '{0:2d} @ {1:2d} {2}{0:<2d}'\n",
    "\n",
    "for needle in reversed(NEEDLES):\n",
    "    bisect.insort(HAYSTACK,needle)\n",
    "\n",
    "HAYSTACK"
   ]
  },
  {
   "cell_type": "markdown",
   "id": "a3b87efc-b760-491b-92c5-13bd1fb3d698",
   "metadata": {},
   "source": [
    "insort takes a sorted array and inserts the element in question in a way that keeps the array sorted"
   ]
  },
  {
   "cell_type": "markdown",
   "id": "99f05208-b157-4e86-8082-8c20a42c56ac",
   "metadata": {},
   "source": [
    "### When a List is not the Answer\n",
    "- when working with float values, array is much more efficcent\n",
    "- if FIFO and LIFO are frequently used a deque works very yfast\n",
    "- set are optimized for containment check (item in my_collection)"
   ]
  },
  {
   "cell_type": "markdown",
   "id": "00809742-920f-48f0-8350-a5aa18fb0119",
   "metadata": {},
   "source": [
    "#### Arrays\n",
    "- optimimzed for number cases\n",
    "- are created with types simmilar to a C array\n",
    "    - array('b') each element is stored in a single byte\n",
    "- following example demonstrates creating and storing 1 million floats in a file and then loading them back in\n",
    "    - it is amazingly rapid"
   ]
  },
  {
   "cell_type": "code",
   "execution_count": 27,
   "id": "829f9e05-58e3-4efc-9598-09d446021030",
   "metadata": {},
   "outputs": [
    {
     "data": {
      "text/plain": [
       "0.08015173501797623"
      ]
     },
     "execution_count": 27,
     "metadata": {},
     "output_type": "execute_result"
    }
   ],
   "source": [
    "from array import array\n",
    "from random import random\n",
    "floats = array('d', (random() for i in range(10**7)))\n",
    "floats[-1]"
   ]
  },
  {
   "cell_type": "code",
   "execution_count": 30,
   "id": "3b879b52-fe89-42ed-88dc-fa08aba91362",
   "metadata": {},
   "outputs": [
    {
     "data": {
      "text/plain": [
       "True"
      ]
     },
     "execution_count": 30,
     "metadata": {},
     "output_type": "execute_result"
    }
   ],
   "source": [
    "fp = open('floats.bin','wb')\n",
    "floats.tofile(fp)\n",
    "fp.close()\n",
    "floats2 = array('d')\n",
    "fp = open('floats.bin','rb')\n",
    "floats2.fromfile(fp,10**7)\n",
    "fp.close()\n",
    "floats2 == floats"
   ]
  },
  {
   "cell_type": "markdown",
   "id": "f7d3147c-ceb9-4916-b2ff-9767c64e378e",
   "metadata": {},
   "source": [
    "#### Memory Views\n",
    "- allows you to handle slicces of arrays without copying bytes\n",
    "    - stores pointers instead of the actual value\n",
    "- enables manipulation to bytes as shown below"
   ]
  },
  {
   "cell_type": "code",
   "execution_count": 40,
   "id": "dfc19f8d-b96e-4ef1-8942-885d79970602",
   "metadata": {},
   "outputs": [
    {
     "data": {
      "text/plain": [
       "-2"
      ]
     },
     "execution_count": 40,
     "metadata": {},
     "output_type": "execute_result"
    }
   ],
   "source": [
    "numbers = array('h',[-2,-1,0,1,2])\n",
    "memv = memoryview(numbers)\n",
    "len(memv)\n",
    "memv[0]"
   ]
  },
  {
   "cell_type": "code",
   "execution_count": 44,
   "id": "57624a1f-c8df-4751-978f-73aa7b298e83",
   "metadata": {},
   "outputs": [
    {
     "data": {
      "text/plain": [
       "[254, 255, 255, 255, 0, 0, 4, 0, 2, 0]"
      ]
     },
     "execution_count": 44,
     "metadata": {},
     "output_type": "execute_result"
    }
   ],
   "source": [
    "memv_oct = memv.cast('B')\n",
    "memv_oct.tolist()"
   ]
  },
  {
   "cell_type": "code",
   "execution_count": 45,
   "id": "ea31d9da-2cb9-4af8-8296-0bd42f90d95a",
   "metadata": {},
   "outputs": [
    {
     "data": {
      "text/plain": [
       "array('h', [-2, -1, 0, 4, 2])"
      ]
     },
     "execution_count": 45,
     "metadata": {},
     "output_type": "execute_result"
    }
   ],
   "source": [
    "memv_oct[6] = 4\n",
    "numbers"
   ]
  },
  {
   "cell_type": "markdown",
   "id": "6d12a111-058e-45a6-8783-09dba16605a8",
   "metadata": {},
   "source": [
    "## Dictionaries and Sets"
   ]
  },
  {
   "cell_type": "code",
   "execution_count": 47,
   "id": "24f08e88-b976-40ec-ae0e-187bcfeb19c5",
   "metadata": {},
   "outputs": [
    {
     "data": {
      "text/plain": [
       "True"
      ]
     },
     "execution_count": 47,
     "metadata": {},
     "output_type": "execute_result"
    }
   ],
   "source": [
    "# Various ways of creating a dict\n",
    "a = dict(one=1, two=2, three=3)\n",
    "b = {'one': 1, 'two': 2, 'three': 3}\n",
    "c = dict(zip(['one', 'two', 'three'], [1, 2, 3]))\n",
    "d = dict([('two', 2), ('one', 1), ('three', 3)])\n",
    "e = dict({'three': 3, 'one': 1, 'two': 2})\n",
    "a == b == c == d == e"
   ]
  },
  {
   "cell_type": "markdown",
   "id": "87b41f1d-ed5e-471b-b4d1-df652f699f84",
   "metadata": {},
   "source": [
    "#### Dict Comprehensions"
   ]
  },
  {
   "cell_type": "code",
   "execution_count": 50,
   "id": "9f6fcc6c-2bbf-4d83-84f2-09171d5fd05f",
   "metadata": {},
   "outputs": [
    {
     "data": {
      "text/plain": [
       "{1: 'UNITED STATES', 62: 'INDONESIA', 55: 'BRAZIL', 7: 'RUSSIA'}"
      ]
     },
     "execution_count": 50,
     "metadata": {},
     "output_type": "execute_result"
    }
   ],
   "source": [
    "DIAL_CODES = [\n",
    "(86, 'China'),\n",
    "(91, 'India'),\n",
    "(1, 'United States'),\n",
    "(62, 'Indonesia'),\n",
    "(55, 'Brazil'),\n",
    "(92, 'Pakistan'),\n",
    "(880, 'Bangladesh'),\n",
    "(234, 'Nigeria'),\n",
    "(7, 'Russia'),\n",
    "(81, 'Japan'),\n",
    "]\n",
    "country_code = {country: code for code, country in DIAL_CODES}\n",
    "{code: country.upper() for country, code in country_code.items() if code < 66}"
   ]
  },
  {
   "cell_type": "markdown",
   "id": "685a6b3f-697b-4f1a-94af-d063d0a0cdd0",
   "metadata": {},
   "source": [
    "#### Generic Mapping Types\n",
    "- the collections.abc module provides the mapping and mutablemapping abcs to formalize the interfaces of dicct and ismilar types\n",
    "- all use a basic dict in their impllementation so they share the limitation that their keys must be hashable\n",
    "    - an object is hasable if it has a hash value that will never change during its lifetime"
   ]
  },
  {
   "cell_type": "code",
   "execution_count": 3,
   "id": "375694de-2bc8-4005-bb54-e56f2ab2feba",
   "metadata": {},
   "outputs": [
    {
     "ename": "NameError",
     "evalue": "name 'abc' is not defined",
     "output_type": "error",
     "traceback": [
      "\u001b[0;31m---------------------------------------------------------------------------\u001b[0m",
      "\u001b[0;31mNameError\u001b[0m                                 Traceback (most recent call last)",
      "Cell \u001b[0;32mIn[3], line 2\u001b[0m\n\u001b[1;32m      1\u001b[0m my_dict \u001b[38;5;241m=\u001b[39m {}\n\u001b[0;32m----> 2\u001b[0m \u001b[38;5;28misinstance\u001b[39m(my_dict, \u001b[43mabc\u001b[49m\u001b[38;5;241m.\u001b[39mmapping)\n",
      "\u001b[0;31mNameError\u001b[0m: name 'abc' is not defined"
     ]
    }
   ],
   "source": [
    "my_dict = {}\n",
    "isinstance(my_dict, abc.mapping)"
   ]
  },
  {
   "cell_type": "markdown",
   "id": "47656c64-b1a2-4e93-8557-ea69e6d9dce4",
   "metadata": {},
   "source": [
    "#### Handling Missing Keys\n",
    "- using set default is the most pythonic method of setting keys that may or may not exist\n",
    "    - does all of teh work with one lookup"
   ]
  },
  {
   "cell_type": "code",
   "execution_count": 5,
   "id": "34dbaaec-7fda-4861-bf0e-94c570baa215",
   "metadata": {},
   "outputs": [],
   "source": [
    "key = \"hello\"\n",
    "new_value = 23\n",
    "my_dict.setdefault(key,[]).append(new_value)"
   ]
  },
  {
   "cell_type": "markdown",
   "id": "9e12e607-732c-45de-a14b-6f1d2f92f473",
   "metadata": {},
   "source": [
    "#### Mappings with Flexible Key Lookup\n",
    "- sometimes whenever a non existant key is queried we want to return a default value\n",
    "    - we can do this with a defaultdict\n",
    "    - or by adding a \\_\\_missing\\_\\_ method"
   ]
  },
  {
   "cell_type": "code",
   "execution_count": 7,
   "id": "c95ffd28-730a-482f-ace6-943e9ca2f878",
   "metadata": {},
   "outputs": [
    {
     "ename": "FileNotFoundError",
     "evalue": "[Errno 2] No such file or directory: '-f'",
     "output_type": "error",
     "traceback": [
      "\u001b[0;31m---------------------------------------------------------------------------\u001b[0m",
      "\u001b[0;31mFileNotFoundError\u001b[0m                         Traceback (most recent call last)",
      "Cell \u001b[0;32mIn[7], line 6\u001b[0m\n\u001b[1;32m      4\u001b[0m WORD_RE \u001b[38;5;241m=\u001b[39m re\u001b[38;5;241m.\u001b[39mcompile(\u001b[38;5;124m'\u001b[39m\u001b[38;5;124m\\\u001b[39m\u001b[38;5;124mw+\u001b[39m\u001b[38;5;124m'\u001b[39m)\n\u001b[1;32m      5\u001b[0m index \u001b[38;5;241m=\u001b[39m collections\u001b[38;5;241m.\u001b[39mdefaultdict(\u001b[38;5;28mlist\u001b[39m)\n\u001b[0;32m----> 6\u001b[0m \u001b[38;5;28;01mwith\u001b[39;00m \u001b[38;5;28;43mopen\u001b[39;49m\u001b[43m(\u001b[49m\u001b[43msys\u001b[49m\u001b[38;5;241;43m.\u001b[39;49m\u001b[43margv\u001b[49m\u001b[43m[\u001b[49m\u001b[38;5;241;43m1\u001b[39;49m\u001b[43m]\u001b[49m\u001b[43m,\u001b[49m\u001b[43m \u001b[49m\u001b[43mencoding\u001b[49m\u001b[38;5;241;43m=\u001b[39;49m\u001b[38;5;124;43m'\u001b[39;49m\u001b[38;5;124;43mutf-8\u001b[39;49m\u001b[38;5;124;43m'\u001b[39;49m\u001b[43m)\u001b[49m \u001b[38;5;28;01mas\u001b[39;00m fp:\n\u001b[1;32m      7\u001b[0m     \u001b[38;5;28;01mfor\u001b[39;00m line_no, line \u001b[38;5;129;01min\u001b[39;00m \u001b[38;5;28menumerate\u001b[39m(fp, \u001b[38;5;241m1\u001b[39m):\n\u001b[1;32m      8\u001b[0m         \u001b[38;5;28;01mfor\u001b[39;00m match \u001b[38;5;129;01min\u001b[39;00m WORD_RE\u001b[38;5;241m.\u001b[39mfinditer(line):\n",
      "File \u001b[0;32m~/.local/lib/python3.8/site-packages/IPython/core/interactiveshell.py:282\u001b[0m, in \u001b[0;36m_modified_open\u001b[0;34m(file, *args, **kwargs)\u001b[0m\n\u001b[1;32m    275\u001b[0m \u001b[38;5;28;01mif\u001b[39;00m file \u001b[38;5;129;01min\u001b[39;00m {\u001b[38;5;241m0\u001b[39m, \u001b[38;5;241m1\u001b[39m, \u001b[38;5;241m2\u001b[39m}:\n\u001b[1;32m    276\u001b[0m     \u001b[38;5;28;01mraise\u001b[39;00m \u001b[38;5;167;01mValueError\u001b[39;00m(\n\u001b[1;32m    277\u001b[0m         \u001b[38;5;124mf\u001b[39m\u001b[38;5;124m\"\u001b[39m\u001b[38;5;124mIPython won\u001b[39m\u001b[38;5;124m'\u001b[39m\u001b[38;5;124mt let you open fd=\u001b[39m\u001b[38;5;132;01m{\u001b[39;00mfile\u001b[38;5;132;01m}\u001b[39;00m\u001b[38;5;124m by default \u001b[39m\u001b[38;5;124m\"\u001b[39m\n\u001b[1;32m    278\u001b[0m         \u001b[38;5;124m\"\u001b[39m\u001b[38;5;124mas it is likely to crash IPython. If you know what you are doing, \u001b[39m\u001b[38;5;124m\"\u001b[39m\n\u001b[1;32m    279\u001b[0m         \u001b[38;5;124m\"\u001b[39m\u001b[38;5;124myou can use builtins\u001b[39m\u001b[38;5;124m'\u001b[39m\u001b[38;5;124m open.\u001b[39m\u001b[38;5;124m\"\u001b[39m\n\u001b[1;32m    280\u001b[0m     )\n\u001b[0;32m--> 282\u001b[0m \u001b[38;5;28;01mreturn\u001b[39;00m \u001b[43mio_open\u001b[49m\u001b[43m(\u001b[49m\u001b[43mfile\u001b[49m\u001b[43m,\u001b[49m\u001b[43m \u001b[49m\u001b[38;5;241;43m*\u001b[39;49m\u001b[43margs\u001b[49m\u001b[43m,\u001b[49m\u001b[43m \u001b[49m\u001b[38;5;241;43m*\u001b[39;49m\u001b[38;5;241;43m*\u001b[39;49m\u001b[43mkwargs\u001b[49m\u001b[43m)\u001b[49m\n",
      "\u001b[0;31mFileNotFoundError\u001b[0m: [Errno 2] No such file or directory: '-f'"
     ]
    }
   ],
   "source": [
    "import sys\n",
    "import re\n",
    "import collections\n",
    "WORD_RE = re.compile('\\w+')\n",
    "index = collections.defaultdict(list)\n",
    "with open(\"hello.txt\", encoding='utf-8') as fp:\n",
    "    for line_no, line in enumerate(fp, 1):\n",
    "        for match in WORD_RE.finditer(line):\n",
    "            word = match.group()\n",
    "            column_no = match.start()+1\n",
    "            location = (line_no, column_no)\n",
    "            index[word].append(location)"
   ]
  },
  {
   "cell_type": "code",
   "execution_count": null,
   "id": "c59a6e2c-0f8e-40ad-bb4f-82c49348bcf4",
   "metadata": {},
   "outputs": [],
   "source": []
  }
 ],
 "metadata": {
  "kernelspec": {
   "display_name": "Python 3 (ipykernel)",
   "language": "python",
   "name": "python3"
  },
  "language_info": {
   "codemirror_mode": {
    "name": "ipython",
    "version": 3
   },
   "file_extension": ".py",
   "mimetype": "text/x-python",
   "name": "python",
   "nbconvert_exporter": "python",
   "pygments_lexer": "ipython3",
   "version": "3.8.10"
  }
 },
 "nbformat": 4,
 "nbformat_minor": 5
}
