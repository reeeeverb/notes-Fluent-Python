{
 "cells": [
  {
   "cell_type": "markdown",
   "id": "362be2fd-3c60-479b-84c8-f9f76976a69a",
   "metadata": {},
   "source": [
    "# Functions as Objects\n",
    "\n",
    "## First Class Functions\n",
    "- all functions are first class objects, which entails one of the following:\n",
    "    - creation at runtime\n",
    "    - assigned to a variable or element in a data structure\n",
    "    - Passed as an arguement to a function\n",
    "    - Return as the result of a function"
   ]
  },
  {
   "cell_type": "code",
   "execution_count": 1,
   "id": "d30eaf4a-25e3-43f3-9da8-b63f9b986db9",
   "metadata": {},
   "outputs": [
    {
     "data": {
      "text/plain": [
       "1405006117752879898543142606244511569936384000000000"
      ]
     },
     "execution_count": 1,
     "metadata": {},
     "output_type": "execute_result"
    }
   ],
   "source": [
    "# Treating a fn as an object\n",
    "def factorial(n):\n",
    "    '''returns n!'''\n",
    "    return 1 if n < 2 else n * factorial(n-1)\n",
    "factorial(42)"
   ]
  },
  {
   "cell_type": "code",
   "execution_count": 2,
   "id": "31851bd4-312a-400b-8c24-189e37c2145c",
   "metadata": {},
   "outputs": [
    {
     "data": {
      "text/plain": [
       "'returns n!'"
      ]
     },
     "execution_count": 2,
     "metadata": {},
     "output_type": "execute_result"
    }
   ],
   "source": [
    "factorial.__doc__"
   ]
  },
  {
   "cell_type": "code",
   "execution_count": 3,
   "id": "32f2c77e-a12b-42fd-b2da-1243b4e16e05",
   "metadata": {},
   "outputs": [
    {
     "data": {
      "text/plain": [
       "function"
      ]
     },
     "execution_count": 3,
     "metadata": {},
     "output_type": "execute_result"
    }
   ],
   "source": [
    "type(factorial)"
   ]
  },
  {
   "cell_type": "markdown",
   "id": "194e41ab-486d-45ba-9b87-31b69acc6017",
   "metadata": {},
   "source": [
    "We can assign it a variable and call it through that name"
   ]
  },
  {
   "cell_type": "code",
   "execution_count": 4,
   "id": "811e4d23-27ae-4b80-a8f5-85f96722aa77",
   "metadata": {},
   "outputs": [
    {
     "data": {
      "text/plain": [
       "120"
      ]
     },
     "execution_count": 4,
     "metadata": {},
     "output_type": "execute_result"
    }
   ],
   "source": [
    "fact = factorial\n",
    "fact(5)"
   ]
  },
  {
   "cell_type": "markdown",
   "id": "6807b24c-234e-47cc-9809-64bf1defbf84",
   "metadata": {},
   "source": [
    "Also a fn can be passed as an argument"
   ]
  },
  {
   "cell_type": "code",
   "execution_count": 6,
   "id": "2ac529aa-9fb3-4563-8b15-60e7bd8fd805",
   "metadata": {},
   "outputs": [
    {
     "data": {
      "text/plain": [
       "[1, 1, 2, 6, 24, 120, 720, 5040, 40320, 362880, 3628800]"
      ]
     },
     "execution_count": 6,
     "metadata": {},
     "output_type": "execute_result"
    }
   ],
   "source": [
    "list(map(factorial, range(11)))"
   ]
  },
  {
   "cell_type": "markdown",
   "id": "38f9a355-836a-47ef-9c89-f517fb1e50bf",
   "metadata": {},
   "source": [
    "### Higher Order Functions\n",
    "- a function that takes a fn as an arguement or return a fn as the result\n",
    "    - examples include map and sorted(key arguement)"
   ]
  },
  {
   "cell_type": "code",
   "execution_count": 7,
   "id": "7aaa8c9d-344a-41ae-9540-77903733baa4",
   "metadata": {},
   "outputs": [
    {
     "data": {
      "text/plain": [
       "['fig', 'apple', 'cherry', 'banana', 'raspberry', 'strawberry']"
      ]
     },
     "execution_count": 7,
     "metadata": {},
     "output_type": "execute_result"
    }
   ],
   "source": [
    "fruits = [\"strawberry\",\"fig\",\"apple\",\"cherry\",\"raspberry\",\"banana\"]\n",
    "sorted(fruits, key=len)"
   ]
  },
  {
   "cell_type": "markdown",
   "id": "a8d27f31-891b-48c3-9c42-1a35945c0518",
   "metadata": {},
   "source": [
    "### Lambda Fns\n",
    "- confusing inline fns\n",
    "- in this example we reverse each word and sort by that order"
   ]
  },
  {
   "cell_type": "code",
   "execution_count": 9,
   "id": "2b1c7d4c-3531-4cf7-82a4-15ec256eaaf0",
   "metadata": {},
   "outputs": [
    {
     "data": {
      "text/plain": [
       "['banana', 'apple', 'fig', 'raspberry', 'strawberry', 'cherry']"
      ]
     },
     "execution_count": 9,
     "metadata": {},
     "output_type": "execute_result"
    }
   ],
   "source": [
    "sorted(fruits, key=lambda word: word[::-1])"
   ]
  },
  {
   "cell_type": "markdown",
   "id": "018b31f4-1ef9-4a11-a72a-ce4b0997be12",
   "metadata": {},
   "source": [
    "### User Defined Callable Types\n",
    "- arbitrary Python objects may also be made to behave like fns\n",
    "    - just implement a \\_\\_call\\_\\_ instance method"
   ]
  },
  {
   "cell_type": "code",
   "execution_count": 17,
   "id": "c138ea30-5fd8-4fea-9fef-552978babb63",
   "metadata": {},
   "outputs": [],
   "source": [
    "import random\n",
    "class BingoCage:\n",
    "    def __init__(self, items):\n",
    "        self._items = list(items)\n",
    "        random.shuffle(self._items)\n",
    "    def pick(self):\n",
    "        try:\n",
    "            return self._items.pop()\n",
    "        except IndexError:\n",
    "            raise LookupError('pick from empty BingoCage')\n",
    "    def __call__(self):\n",
    "        return self.pick()"
   ]
  },
  {
   "cell_type": "code",
   "execution_count": 22,
   "id": "ec4d29dc-e076-47e4-ad31-09531491bc2d",
   "metadata": {},
   "outputs": [
    {
     "data": {
      "text/plain": [
       "1"
      ]
     },
     "execution_count": 22,
     "metadata": {},
     "output_type": "execute_result"
    }
   ],
   "source": [
    "bingo = BingoCage(range(3))\n",
    "bingo() # Same thing as bingo.pick()"
   ]
  },
  {
   "cell_type": "markdown",
   "id": "295f8223-4128-4415-ad57-82f707e3bddd",
   "metadata": {},
   "source": [
    "### Special Paramters\n",
    "- using \\* enables all extra arguements to be collected in a tuple\n",
    "- \\*\\*attrs captures extra arguements as a dict"
   ]
  },
  {
   "cell_type": "code",
   "execution_count": 23,
   "id": "d1117d7c-6d76-45ef-b44d-4388f23a3efa",
   "metadata": {},
   "outputs": [
    {
     "ename": "TypeError",
     "evalue": "tag() got multiple values for argument 'name'",
     "output_type": "error",
     "traceback": [
      "\u001b[0;31m---------------------------------------------------------------------------\u001b[0m",
      "\u001b[0;31mTypeError\u001b[0m                                 Traceback (most recent call last)",
      "Cell \u001b[0;32mIn[23], line 3\u001b[0m\n\u001b[1;32m      1\u001b[0m \u001b[38;5;28;01mdef\u001b[39;00m \u001b[38;5;21mtag\u001b[39m(name, \u001b[38;5;241m*\u001b[39mcontent, \u001b[38;5;28mcls\u001b[39m\u001b[38;5;241m=\u001b[39m\u001b[38;5;28;01mNone\u001b[39;00m, \u001b[38;5;241m*\u001b[39m\u001b[38;5;241m*\u001b[39mattrs):\n\u001b[1;32m      2\u001b[0m     \u001b[38;5;28;01mreturn\u001b[39;00m\n\u001b[0;32m----> 3\u001b[0m \u001b[43mtag\u001b[49m\u001b[43m(\u001b[49m\u001b[38;5;124;43m'\u001b[39;49m\u001b[38;5;124;43mp\u001b[39;49m\u001b[38;5;124;43m'\u001b[39;49m\u001b[43m,\u001b[49m\u001b[38;5;124;43m'\u001b[39;49m\u001b[38;5;124;43mhello\u001b[39;49m\u001b[38;5;124;43m'\u001b[39;49m\u001b[43m,\u001b[49m\u001b[38;5;124;43m'\u001b[39;49m\u001b[38;5;124;43mworld\u001b[39;49m\u001b[38;5;124;43m'\u001b[39;49m\u001b[43m,\u001b[49m\u001b[43m \u001b[49m\u001b[38;5;28;43mcls\u001b[39;49m\u001b[38;5;241;43m=\u001b[39;49m\u001b[38;5;124;43m'\u001b[39;49m\u001b[38;5;124;43msidebar\u001b[39;49m\u001b[38;5;124;43m'\u001b[39;49m\u001b[43m,\u001b[49m\u001b[43m \u001b[49m\u001b[43mname\u001b[49m\u001b[38;5;241;43m=\u001b[39;49m\u001b[38;5;124;43m\"\u001b[39;49m\u001b[38;5;124;43mimg\u001b[39;49m\u001b[38;5;124;43m\"\u001b[39;49m\u001b[43m,\u001b[49m\u001b[43mcontent\u001b[49m\u001b[38;5;241;43m=\u001b[39;49m\u001b[38;5;124;43m\"\u001b[39;49m\u001b[38;5;124;43mtesting\u001b[39;49m\u001b[38;5;124;43m\"\u001b[39;49m\u001b[43m)\u001b[49m\n\u001b[1;32m      4\u001b[0m \u001b[38;5;66;03m# name = p; content = ('hello','world'); cls = sidebarattrs = ('name':'img','content':'testing'}\u001b[39;00m\n",
      "\u001b[0;31mTypeError\u001b[0m: tag() got multiple values for argument 'name'"
     ]
    }
   ],
   "source": [
    "def tag(name, *content, cls=None, **attrs):\n",
    "    return\n",
    "tag('p','hello','world', cls='sidebar', name=\"img\",content=\"testing\")\n",
    "# name = p; content = ('hello','world'); cls = sidebarattrs = ('name':'img','content':'testing'}"
   ]
  }
 ],
 "metadata": {
  "kernelspec": {
   "display_name": "Python 3 (ipykernel)",
   "language": "python",
   "name": "python3"
  },
  "language_info": {
   "codemirror_mode": {
    "name": "ipython",
    "version": 3
   },
   "file_extension": ".py",
   "mimetype": "text/x-python",
   "name": "python",
   "nbconvert_exporter": "python",
   "pygments_lexer": "ipython3",
   "version": "3.8.10"
  }
 },
 "nbformat": 4,
 "nbformat_minor": 5
}
